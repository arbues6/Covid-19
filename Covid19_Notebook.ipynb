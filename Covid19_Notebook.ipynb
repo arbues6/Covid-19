{
 "cells": [
  {
   "cell_type": "markdown",
   "metadata": {},
   "source": [
    "## Introduction\n",
    "This Python Notebook is a simple example to show how can data science be applied to Covid-19 updated data. We'll see how to deal with different data structures and basic Machine Learning algorithms to cluster similar tendencies among countries."
   ]
  },
  {
   "cell_type": "code",
   "execution_count": 7,
   "metadata": {},
   "outputs": [],
   "source": [
    "# Load Python Libraries (all of them can be installed with pip commands)\n",
    "import numpy as np\n",
    "import csv\n",
    "import matplotlib.pyplot as plt\n"
   ]
  },
  {
   "cell_type": "markdown",
   "metadata": {},
   "source": [
    "# Data Gathering and Analysis\n",
    "\n",
    "The first thing we should do is download different datasets. \n",
    "On the one hand, Kaggle releases every night a public set of csv files with updated info of worldwide Covid19 cases: https://www.kaggle.com/sudalairajkumar/novel-corona-virus-2019-dataset (by logging in, the dataset is available). \n",
    "In this dataset, we'll find 6 files, but we'll just use the ones regarding time-series (feel free to examine all of them tho). If you open these csv's, you'll see that each row corresponds to a single country; besides, the first 4 columns indicate (for each country) the name of the province/country, plus its latitude and longitude. The remaining columns indicate the number of cases of Covid-19 in a timeline. \n",
    "As it can be seen, there are three different types of time-series, belonging to the (1) Confirmed, (2) Death and (3) Recovered cases of Covid-19.\n",
    "On the other hand, we might want to complement the information extracted from Kaggle's data: for instance, the number of confirmed people is not the same for a huge country (eg Russia) than for a really small one (eg Andorra). For this reason, we'll download to other datasets from \"The World Bank\": (a) https://data.worldbank.org/indicator/SP.POP.TOTL total population per country, and (b) https://data.worldbank.org/indicator/AG.LND.TOTL.K2 land area per country. \n",
    "\n",
    "However, mixing both types of datasets (Kaggle + World Bank) is not that straight-forward, since Country names can be written in different ways. I tried to find all exceptions, and wrote them down in the string lists that can be seen below the paths: namesCsv1 correspond to the Country names of Kaggle, namesCsv2 to the ones of World Bank, and namesLeft to the ones that I did not find a proper match. \n",
    "\n",
    "Once we set paths and filenames... "
   ]
  },
  {
   "cell_type": "code",
   "execution_count": 8,
   "metadata": {},
   "outputs": [],
   "source": [
    "strPath = '/Users/arbues/Documents/Covid19/novel-corona-virus-2019-dataset/' # Change it to your own\n",
    "fileCovidCONF = strPath + 'time_series_covid_19_confirmed.csv'\n",
    "fileCovidDEATH = strPath + 'time_series_covid_19_deaths.csv'\n",
    "fileCovidREC = strPath + 'time_series_covid_19_recovered.csv'\n",
    "filePopulation = strPath + 'Population.csv' # Check if the filename matches yours \n",
    "fileLand = strPath + 'LandArea.csv' # Check if the filename matches yours\n",
    "\n",
    "namesCsv1 = ['Slovak Republic', 'Venezuela, RB', 'St. Lucia', 'Brunei Darussalam', 'Congo, Dem. Rep.', 'Jersey', 'Egypt, Arab Rep.', 'Russian Federation', 'United States', 'St. Martin (French part)', 'Korea, Rep.', 'Iran, Islamic Rep.', 'Czech Republic', 'St. Vincent and the Grenadines']\n",
    "namesCsv2 = ['Slovakia', 'Venezuela', 'Saint Lucia', 'Brunei', 'Congo (Kinshasa)', 'Channel Islands', 'Egypt', 'Russia', 'US', 'Martinique', 'Korea, South', 'Iran', 'Czechia', 'Saint Vincent and the Grenadines']\n",
    "namesLeft = ['Cruise Ship', 'Guernsey', 'occupied Palestinian territory', 'Holy See', 'French Guiana', 'Guadeloupe', 'Reunion', 'Taiwan*', 'Jersey']"
   ]
  },
  {
   "cell_type": "markdown",
   "metadata": {},
   "source": [
    "In order to store all data from each csv file into lists, basic functions can be created. Note that this structure could be a Pandas Dataframe, but I preferred to show its use in simple structures. In order to read these files, the following function is declared. "
   ]
  },
  {
   "cell_type": "code",
   "execution_count": 9,
   "metadata": {},
   "outputs": [],
   "source": [
    "def readIndDDR(strInd):\n",
    "    lProvince = []\n",
    "    lCountry = []\n",
    "    lLat = []\n",
    "    lLong = []\n",
    "    lEvol = []\n",
    "\n",
    "    bFirst = False\n",
    "\n",
    "    with open(strInd, 'rt') as csvfile:\n",
    "        spamreader = csv.reader(csvfile, delimiter=',')\n",
    "        for row in spamreader:\n",
    "            if bFirst:\n",
    "                lProvince.append(row[0])\n",
    "                lCountry.append(row[1])\n",
    "                lLat.append(float(row[2]))\n",
    "                lLong.append(float(row[3]))\n",
    "                lEvol.append([float(s) for s in row[4:]])\n",
    "            else:\n",
    "                bFirst = True\n",
    "\n",
    "    return lProvince, lCountry, lLat, lLong, lEvol"
   ]
  },
  {
   "cell_type": "markdown",
   "metadata": {},
   "source": [
    "And now, we can read every single time-series file by:"
   ]
  },
  {
   "cell_type": "code",
   "execution_count": 10,
   "metadata": {},
   "outputs": [
    {
     "name": "stdout",
     "output_type": "stream",
     "text": [
      "Covid-19 in Spain\n",
      "Confirmed Cases (per day): [0.0, 0.0, 0.0, 0.0, 0.0, 0.0, 0.0, 0.0, 0.0, 0.0, 1.0, 1.0, 1.0, 1.0, 1.0, 1.0, 1.0, 1.0, 2.0, 2.0, 2.0, 2.0, 2.0, 2.0, 2.0, 2.0, 2.0, 2.0, 2.0, 2.0, 2.0, 2.0, 2.0, 2.0, 6.0, 13.0, 15.0, 32.0, 45.0, 84.0, 120.0, 165.0, 222.0, 259.0, 400.0, 500.0, 673.0, 1073.0, 1695.0, 2277.0, 2277.0, 5232.0, 6391.0]\n",
      "Deaths Cases (per day): [0.0, 0.0, 0.0, 0.0, 0.0, 0.0, 0.0, 0.0, 0.0, 0.0, 0.0, 0.0, 0.0, 0.0, 0.0, 0.0, 0.0, 0.0, 0.0, 0.0, 0.0, 0.0, 0.0, 0.0, 0.0, 0.0, 0.0, 0.0, 0.0, 0.0, 0.0, 0.0, 0.0, 0.0, 0.0, 0.0, 0.0, 0.0, 0.0, 0.0, 0.0, 1.0, 2.0, 3.0, 5.0, 10.0, 17.0, 28.0, 35.0, 54.0, 55.0, 133.0, 195.0]\n",
      "Recoverded Cases (per day): [0.0, 0.0, 0.0, 0.0, 0.0, 0.0, 0.0, 0.0, 0.0, 0.0, 0.0, 0.0, 0.0, 0.0, 0.0, 0.0, 0.0, 0.0, 0.0, 0.0, 0.0, 0.0, 0.0, 0.0, 2.0, 2.0, 2.0, 2.0, 2.0, 2.0, 2.0, 2.0, 2.0, 2.0, 2.0, 2.0, 2.0, 2.0, 2.0, 2.0, 2.0, 2.0, 2.0, 2.0, 2.0, 30.0, 30.0, 32.0, 32.0, 183.0, 183.0, 193.0, 517.0]\n"
     ]
    }
   ],
   "source": [
    "lProvinceDET, lCountryDET, lLatDET, lLongDET, lEvolDET = readIndDDR(fileCovidCONF)\n",
    "lProvinceDEA, lCountryDEA, lLatDEA, lLongDEA, lEvolDEA = readIndDDR(fileCovidDEATH)\n",
    "lProvinceREC, lCountryREC, lLatREC, lLongREC, lEvolREC = readIndDDR(fileCovidREC)\n",
    "\n",
    "# Example, if we want to print the number of Covid-19 cases in a given country... \n",
    "sTargetCountry = 'Spain'\n",
    "print('Covid-19 in ' + sTargetCountry)\n",
    "print('Confirmed Cases (per day): ' + str(lEvolDET[lCountryDET.index(sTargetCountry)]))\n",
    "print('Deaths Cases (per day): ' + str(lEvolDEA[lCountryDET.index(sTargetCountry)]))\n",
    "print('Recoverded Cases (per day): ' + str(lEvolREC[lCountryDET.index(sTargetCountry)]))"
   ]
  },
  {
   "cell_type": "markdown",
   "metadata": {},
   "source": [
    "However, these data don't show much, as it is difficult to interpret from raw numbers. Besides, there's one main issue: countries such as United States are decomposed into different states, so there is no way to compare the country as a whole. The next step is then to group different provinces into the same country. The time-series values will be added into the same vector, whilst the lattitude and longitude values will be averaged. "
   ]
  },
  {
   "cell_type": "code",
   "execution_count": 11,
   "metadata": {},
   "outputs": [],
   "source": [
    "def joinCountries(ilProvince, ilCountry, ilLat, ilLong, ilEvol):\n",
    "    lCountry = []\n",
    "    lLat = []\n",
    "    lLong = []\n",
    "    lEvol = []\n",
    "    lTimes = []\n",
    "    for i in range(0, len(ilCountry)):\n",
    "        if ilCountry[i] not in lCountry and ilCountry[i] not in namesLeft:\n",
    "            lCountry.append(ilCountry[i])\n",
    "            lTimes.append(1)\n",
    "            lLat.append(ilLat[i])\n",
    "            lLong.append(ilLong[i])\n",
    "            lEvol.append(ilEvol[i])\n",
    "        elif ilCountry[i] not in namesLeft:\n",
    "            indCountry = lCountry.index(ilCountry[i])\n",
    "            lTimes[indCountry] = lTimes[indCountry] + 1\n",
    "            lLat[indCountry] = lLat[indCountry] + (ilLat[i])\n",
    "            lLong[indCountry] = lLong[indCountry] + (ilLong[i])\n",
    "            lEvol[indCountry] = [a+b for a,b in zip (lEvol[indCountry],ilEvol[i])]\n",
    "    return lCountry, [x/y for x, y in zip(lLat, lTimes)], [x/y for x, y in zip(lLong, lTimes)], lEvol"
   ]
  },
  {
   "cell_type": "markdown",
   "metadata": {},
   "source": [
    "Once again, we can repeat the same process we did before and cluster data for each country just by calling the \"joinCountries\" function (which, as it can be seen, does not return any kind of \"Province\" list). "
   ]
  },
  {
   "cell_type": "code",
   "execution_count": 12,
   "metadata": {},
   "outputs": [],
   "source": [
    "lCountryDET, lLatDET, lLongDET, lEvolDET = joinCountries(lProvinceDET, lCountryDET, lLatDET, lLongDET, lEvolDET)\n",
    "lCountryDEA, lLatDEA, lLongDEA, lEvolDEA = joinCountries(lProvinceDEA, lCountryDEA, lLatDEA, lLongDEA, lEvolDEA)\n",
    "lCountryREC, lLatREC, lLongREC, lEvolREC = joinCountries(lProvinceREC, lCountryREC, lLatREC, lLongREC, lEvolREC)"
   ]
  },
  {
   "cell_type": "markdown",
   "metadata": {},
   "source": [
    "At this moment, data can already be plotted in a simple way. Just by defining some target countries, different plots can be extracted for Confirmed - Deaths - Recovered cases. Feel free to change names or add more countries for your own purposes; as it can be seen, to add another Country, you simply have to uncomment the sTargetCountry4 corresponding lines (and do the same once again for other candidates). "
   ]
  },
  {
   "cell_type": "code",
   "execution_count": 13,
   "metadata": {
    "scrolled": true
   },
   "outputs": [
    {
     "data": {
      "image/png": "[encoded data removed]",
      "text/plain": [
       "<Figure size 432x288 with 3 Axes>"
      ]
     },
     "metadata": {
      "needs_background": "light"
     },
     "output_type": "display_data"
    }
   ],
   "source": [
    "sTargetCountry1 = 'Spain'\n",
    "sTargetCountry2 = 'Italy'\n",
    "sTargetCountry3 = 'France'\n",
    "# sTargetCountry4 = ''\n",
    "fig, (ax1,ax2,ax3) = plt.subplots(1,3)\n",
    "ax1.plot(lEvolDET[lCountryDET.index(sTargetCountry1)],label=sTargetCountry1)\n",
    "ax1.plot(lEvolDET[lCountryDET.index(sTargetCountry2)],label=sTargetCountry2)\n",
    "ax1.plot(lEvolDET[lCountryDET.index(sTargetCountry3)],label=sTargetCountry3)\n",
    "# ax1.plot(lEvolDET[lCountryDET.index(sTargetCountry4)],label=sTargetCountry4)\n",
    "ax1.set_title('Confirmed Cases')\n",
    "ax2.plot(lEvolDEA[lCountryDEA.index(sTargetCountry1)],label=sTargetCountry1)\n",
    "ax2.plot(lEvolDEA[lCountryDEA.index(sTargetCountry2)],label=sTargetCountry2)\n",
    "ax2.plot(lEvolDEA[lCountryDEA.index(sTargetCountry3)],label=sTargetCountry3)\n",
    "# ax2.plot(lEvolDEA[lCountryDEA.index(sTargetCountry4)],label=sTargetCountry4)\n",
    "ax2.set_title('Confirmed Deaths')\n",
    "ax3.plot(lEvolREC[lCountryREC.index(sTargetCountry1)],label=sTargetCountry1)\n",
    "ax3.plot(lEvolREC[lCountryREC.index(sTargetCountry2)],label=sTargetCountry2)\n",
    "ax3.plot(lEvolREC[lCountryREC.index(sTargetCountry3)],label=sTargetCountry3)\n",
    "# ax3.plot(lEvolREC[lCountryREC.index(sTargetCountry4)],label=sTargetCountry4)\n",
    "ax3.set_title('Recovered Cases')\n",
    "legentPos = \"upper left\" # Could be \"lower / upper / left / right\"\n",
    "legDET = ax1.legend(loc=legentPos)\n",
    "legDEA = ax2.legend(loc=legentPos)\n",
    "legREC = ax3.legend(loc=legentPos)\n",
    "plt.show()\n"
   ]
  },
  {
   "cell_type": "markdown",
   "metadata": {},
   "source": [
    "Now, it is the moment to contextualize all data by merging Covid-19 cases with country information, such as the total population or even the corresponding land in km2. As Covid-19 is a virus that spreads with ease between humans, the number of people/squared meter seems like a relevant feature to take into account. To read data from World Bank, the following function can be used. "
   ]
  },
  {
   "cell_type": "code",
   "execution_count": 14,
   "metadata": {},
   "outputs": [],
   "source": [
    "def readPopulation(sFilePop):\n",
    "    lCountry = []\n",
    "    lPopulation = []\n",
    "    bFirst = 0\n",
    "    with open(sFilePop, 'rt') as csvfile:\n",
    "        spamreader = csv.reader(csvfile, delimiter=',')\n",
    "        for row in spamreader:\n",
    "            if bFirst > 4:\n",
    "                try:\n",
    "                    lCountry.append(row[0])\n",
    "                    lPopulation.append(float(row[-3]))\n",
    "                except:\n",
    "                    pass\n",
    "            else:\n",
    "                bFirst += 1\n",
    "\n",
    "    return lCountry, lPopulation"
   ]
  },
  {
   "cell_type": "code",
   "execution_count": 15,
   "metadata": {},
   "outputs": [],
   "source": [
    "lCountryPOP, lPopulation = readPopulation(filePopulation)\n",
    "lCountryLAND, lLand = readPopulation(fileLand)"
   ]
  },
  {
   "cell_type": "markdown",
   "metadata": {},
   "source": [
    "Nevertheless, as it has been pointed out before, the matching between Country names within different datasets is not perfect, so the resulting data structures after loading files should be filtered using the exceptions that have been found (namesCsv1, namesCsv2 lists, declared at the beginning). "
   ]
  },
  {
   "cell_type": "code",
   "execution_count": 16,
   "metadata": {},
   "outputs": [],
   "source": [
    "def joinPopLat(lCountry, lCountryPOP, lPopulation):\n",
    "    ilCountryPOP = []\n",
    "    ilPopulation = []\n",
    "    for i in range(0, len(lCountryPOP)):\n",
    "        try:\n",
    "            if lCountryPOP[i] in namesCsv1:\n",
    "                strCoun = namesCsv2[namesCsv1.index(lCountryPOP[i])]\n",
    "            else:\n",
    "                strCoun = lCountryPOP[i]\n",
    "            if lCountry.index(strCoun) >= 0:\n",
    "                ilCountryPOP.append(strCoun)\n",
    "                try:\n",
    "                    ilPopulation.append(lPopulation[lCountry.index(strCoun)])\n",
    "                except:\n",
    "                    pass\n",
    "        except:\n",
    "            pass\n",
    "    return ilCountryPOP, ilPopulation"
   ]
  },
  {
   "cell_type": "code",
   "execution_count": 17,
   "metadata": {},
   "outputs": [],
   "source": [
    "flCountryPOP, flPopulation = joinPopLat(lCountryDET, lCountryPOP, lPopulation)\n",
    "flCountryLAND, flLand = joinPopLat(lCountryDET, lCountryLAND, lLand)"
   ]
  },
  {
   "cell_type": "markdown",
   "metadata": {},
   "source": [
    "Once all data is loaded and stored into variables, an optional step is performed to sort all lists in the same way: i.e., force that the first position in the lists of all Kaggle data belong to the same country as the one in the first position of World Bank Data. To do so: "
   ]
  },
  {
   "cell_type": "code",
   "execution_count": 18,
   "metadata": {},
   "outputs": [],
   "source": [
    "lCountryKAG, lEvolDETb, lEvolDEAb, lEvolRECb = zip(*sorted(zip(lCountryDET, lEvolDET, lEvolDEA, lEvolREC)))\n",
    "flCountryWB, flPopulationb, flLandb = zip(*sorted(zip(flCountryPOP, flPopulation, flLand)))\n",
    "# As it can be proved, lCountryKAG==flCountryWB. "
   ]
  },
  {
   "cell_type": "markdown",
   "metadata": {},
   "source": [
    "With this new contextualization data, the previous visualizations can be changed accordingly, which means that we can take a look not only at the absolute number of Confirmed/Deaths/Recovered cases, but also convert it in a ratio depending on the number of people/squared meter (or just divided by the number of people). In the following code, the floating numbers stored in \"divFac\" variables add the additional info: "
   ]
  },
  {
   "cell_type": "code",
   "execution_count": 19,
   "metadata": {},
   "outputs": [
    {
     "data": {
      "image/png": "[encoded data removed]",
      "text/plain": [
       "<Figure size 432x288 with 3 Axes>"
      ]
     },
     "metadata": {
      "needs_background": "light"
     },
     "output_type": "display_data"
    }
   ],
   "source": [
    "sTargetCountry1 = 'Spain'\n",
    "sTargetCountry2 = 'Italy'\n",
    "sTargetCountry3 = 'Iran'\n",
    "# sTargetCountry4 = ''\n",
    "# Division factors, which are nPeople/sqMeter, this could be changed, for instance, to simply divFac1 = flPopulation[lCountryKAG.index(sTargetCountry1)]\n",
    "divFac1 = flPopulationb[lCountryKAG.index(sTargetCountry1)]/flLandb[lCountryKAG.index(sTargetCountry1)]\n",
    "divFac2 = flPopulationb[lCountryKAG.index(sTargetCountry2)]/flLandb[lCountryKAG.index(sTargetCountry2)]\n",
    "divFac3 = flPopulationb[lCountryKAG.index(sTargetCountry3)]/flLandb[lCountryKAG.index(sTargetCountry3)]\n",
    "# divFac4\n",
    "fig, (ax1,ax2,ax3) = plt.subplots(1,3)\n",
    "ax1.plot(np.array(lEvolDETb[lCountryKAG.index(sTargetCountry1)])/divFac1,label=sTargetCountry1)\n",
    "ax1.plot(np.array(lEvolDETb[lCountryKAG.index(sTargetCountry2)])/divFac2,label=sTargetCountry2)\n",
    "ax1.plot(np.array(lEvolDETb[lCountryKAG.index(sTargetCountry3)])/divFac3,label=sTargetCountry3)\n",
    "# ax1.plot(np.array(lEvolDET[lCountryDET.index(sTargetCountry4)])/divFac4,label=sTargetCountry4)\n",
    "ax1.set_title('Confirmed Cases')\n",
    "ax2.plot(np.array(lEvolDEAb[lCountryKAG.index(sTargetCountry1)])/divFac1,label=sTargetCountry1)\n",
    "ax2.plot(np.array(lEvolDEAb[lCountryKAG.index(sTargetCountry2)])/divFac2,label=sTargetCountry2)\n",
    "ax2.plot(np.array(lEvolDEAb[lCountryKAG.index(sTargetCountry3)])/divFac3,label=sTargetCountry3)\n",
    "# ax2.plot(lEvolDEA[lCountryDEA.index(sTargetCountry4)],label=sTargetCountry4)\n",
    "ax2.set_title('Confirmed Deaths')\n",
    "ax3.plot(np.array(lEvolRECb[lCountryKAG.index(sTargetCountry1)])/divFac1,label=sTargetCountry1)\n",
    "ax3.plot(np.array(lEvolRECb[lCountryKAG.index(sTargetCountry2)])/divFac2,label=sTargetCountry2)\n",
    "ax3.plot(np.array(lEvolRECb[lCountryKAG.index(sTargetCountry3)])/divFac3,label=sTargetCountry3)\n",
    "# ax3.plot(lEvolREC[lCountryREC.index(sTargetCountry4)],label=sTargetCountry4)\n",
    "ax3.set_title('Recovered Cases')\n",
    "legDET = ax1.legend()\n",
    "legDEA = ax2.legend()\n",
    "legREC = ax3.legend()\n",
    "plt.show()"
   ]
  },
  {
   "cell_type": "markdown",
   "metadata": {},
   "source": [
    "# Clustering + Prediction\n",
    "\n",
    "After having gathered and analyzed data, the real \"fun\" comes... Data science, where hidden patterns may be discovered! \n",
    "\n",
    "At this point, the real question could be: which are the countries that prevented better and worse from Covid-19? Although there is not a correct answer to this question, we'll extract several features from every single country's data and try to cluster them according to their curve similarity (i.e., how fast did the virus spread, percentage of deaths...). \n",
    "In order to do so, we'll use some functionalities from the Machine Learning Python library scikit-learn."
   ]
  },
  {
   "cell_type": "code",
   "execution_count": 36,
   "metadata": {},
   "outputs": [],
   "source": [
    "from sklearn.mixture import GaussianMixture\n",
    "from sklearn.decomposition import PCA\n",
    "import matplotlib.pyplot as plt\n",
    "from sklearn.linear_model import LinearRegression"
   ]
  },
  {
   "cell_type": "markdown",
   "metadata": {},
   "source": [
    "The first thing to do is feature extraction, which aims to characterize numerically the different covid-19 country curves. There is a huuuuuuge number of possibilities when it comes to features, but at this point, we'll perform a simple analysis: \n",
    "- The first thing we'll take into account is the different spread timming; if we want to analyze the ratios in a given period of time, we must take as a reference the curve's peak, which will be different for each country. In particular, we can set a parameter (iDays in the code) that gets the appropriate data of the X previous days before the peak. \n",
    "- The time series of detected/deaths/recoveries will be converted into cumulative sums; in this way, for a given day, we will have the historical data, plus the number of det/dea/rec for that day. \n",
    "Bearing that in mind, in the following snippet you can find up to 15 features (some of them are arrays and some floating numbers) that can be later combined into a single feature vector/country. "
   ]
  },
  {
   "cell_type": "code",
   "execution_count": 37,
   "metadata": {},
   "outputs": [],
   "source": [
    "def extractFeatVec(lEvolDET, lEvolDEA, lEvolREC, flCountryPOP, flPopulation, flLand, iDays):\n",
    "    featVec = []\n",
    "    peakPosVal = []\n",
    "    maxDens = max(np.array(flPopulation)/np.array(flLand))\n",
    "    for iCountry in range(0, len(flCountryPOP)):\n",
    "        peakPos = np.argmax(np.array(lEvolDET[iCountry]))\n",
    "        if peakPos < (iDays):\n",
    "            peakPos = (iDays)\n",
    "        peakPosVal.append([peakPos, np.max(np.array(lEvolDET[iCountry]))])\n",
    "\n",
    "        pPeopleDET = np.cumsum(np.array(lEvolDET[iCountry]))[peakPos - iDays:peakPos] # F1 - array: Cumulative sum of detected cases\n",
    "        pPeopleDETn = np.nan_to_num(pPeopleDET/np.max(pPeopleDET)) # F2 - array: normalized cumulative sum [detected cases]\n",
    "        pPeopleDETout = pPeopleDETn[:-1] # F3 - array: normalized cumulative sum without the last position (it's always 1) [detected cases]\n",
    "\n",
    "        pPeopleDEA = np.cumsum(np.array(lEvolDEA[iCountry]))[peakPos - iDays:peakPos] # F4 - array: Cumulative sum of deaths\n",
    "        pPeopleDEAn = np.nan_to_num(pPeopleDEA[-1] / pPeopleDET[-1]) # F5 - float: total percentage of deaths compared to the detected cases\n",
    "        pPeopleDEAout = np.nan_to_num(pPeopleDEA / pPeopleDET)[:-1] # F6 - array: normalized cumulative sum of dead people (without the last element)\n",
    "\n",
    "        pPeopleREC = np.cumsum(np.array(lEvolREC[iCountry]))[peakPos - iDays:peakPos] # F7 - array: Cumulative sum of recoveries\n",
    "        pPeopleRECn = np.nan_to_num(pPeopleREC[-1] / pPeopleDET[-1]) # F8 - float: total percentage of recoveries compared to the detected cases\n",
    "\n",
    "        derecMat = np.array([pPeopleDEAn, pPeopleRECn]) # Join floating-numbered features F5 and F8\n",
    "\n",
    "        fPopDET = pPeopleDET[-1] / flPopulation[iCountry] # F9 - float: percentage of detected cases with respect to the country total population\n",
    "        fPopDEA = pPeopleDEA[-1] / flPopulation[iCountry] # F10 - float: percentage of deaths with respect to the country total population\n",
    "        fPopREC = pPeopleREC[-1] / flPopulation[iCountry] # F11 - float: percentage of recoveries with respect to the country total population\n",
    "        fPopulationn = flPopulation[iCountry] / max(flPopulation) # F12 - float: normalized population with respect to the max country population\n",
    "\n",
    "        fLandp = pPeopleDET[-1] / flLand[iCountry] # F13 - float: percentage of detected cases with respect to the country total land\n",
    "        fLandn = flLand[iCountry] / max(flLand) # F14 - float: normalized country land with respect to the max\n",
    "\n",
    "        fDens = (flPopulation[iCountry] / flLand[iCountry])/maxDens # F15: normalized density\n",
    "        popMat = np.array([fPopDET, fPopDEA, fPopREC]) # Join floating-numbered features F9 and F10\n",
    "\n",
    "        featVec.append(np.concatenate([pPeopleDETout,pPeopleDEAout,derecMat,popMat])) # Concatenate features\n",
    "        \n",
    "    print('Total Feature Vector size: ' + str(np.array(featVec).shape))\n",
    "    return featVec, peakPosVal"
   ]
  },
  {
   "cell_type": "code",
   "execution_count": 38,
   "metadata": {},
   "outputs": [
    {
     "name": "stdout",
     "output_type": "stream",
     "text": [
      "Total Feature Vector size: (134, 23)\n"
     ]
    },
    {
     "name": "stderr",
     "output_type": "stream",
     "text": [
      "/usr/local/lib/python3.7/site-packages/ipykernel_launcher.py:17: RuntimeWarning: invalid value encountered in true_divide\n",
      "/usr/local/lib/python3.7/site-packages/ipykernel_launcher.py:12: RuntimeWarning: invalid value encountered in true_divide\n",
      "  if sys.path[0] == '':\n",
      "/usr/local/lib/python3.7/site-packages/ipykernel_launcher.py:16: RuntimeWarning: invalid value encountered in double_scalars\n",
      "  app.launch_new_instance()\n",
      "/usr/local/lib/python3.7/site-packages/ipykernel_launcher.py:20: RuntimeWarning: invalid value encountered in double_scalars\n"
     ]
    }
   ],
   "source": [
    "iDays = 10 # Time-Window\n",
    "featVecs, peakVal = extractFeatVec(lEvolDETb, lEvolDEAb, lEvolRECb, flCountryWB, flPopulationb, flLandb, iDays)"
   ]
  },
  {
   "cell_type": "markdown",
   "metadata": {},
   "source": [
    "At this point, we can already cluster using any unsupervised clustering algorithm such as K-Means, GMM or other Hierarchical Clustering techniques. However, there's a large amount of countries which have still not faced Covid-19 at its prime (or maybe the reports are not accurate), so the samples are unbiased, with a large number of countries with few cases. For this reason, we'll only cluster the countries with the highest number of Covid-19 confirmed cases. The number of desired countries can be controlled by changing \"topCases\", and the number of clusters can be modified with the \"nClusters\" parameter. \n",
    "The technique that has been used to cluster data is a simple \"Gaussian Mixture Model\" algorithm, and in order to visualize data, PCA has been applied over the first 2 components. "
   ]
  },
  {
   "cell_type": "code",
   "execution_count": 39,
   "metadata": {},
   "outputs": [],
   "source": [
    "def buildClusters(featVecs,nClusters,flCountryPOP, bVerbosity, peakPosVal=None, iTop=None):\n",
    "    if iTop != None:\n",
    "        valTop = np.argsort(np.array(peakPosVal)[:, 1])\n",
    "        featVecsF = []\n",
    "        countryF = []\n",
    "        posCountries = []\n",
    "        for iCountry in range(1, iTop+1):\n",
    "            featVecsF.append(featVecs[valTop[len(valTop)-iCountry]])\n",
    "            countryF.append(flCountryPOP[valTop[len(valTop)-iCountry]])\n",
    "            posCountries.append(valTop[len(valTop)-iCountry])\n",
    "        featVecsF = np.array(featVecsF)\n",
    "        totCon = iTop\n",
    "    else:\n",
    "        featVecsF = np.array(featVecs)\n",
    "        countryF = flCountryPOP\n",
    "        totCon = len(featVecs)\n",
    "\n",
    "    gmm = GaussianMixture(n_components=nClusters).fit(featVecsF)\n",
    "    labs = gmm.predict(featVecsF)\n",
    "    \n",
    "    if bVerbosity:\n",
    "        for iCountry in range(0, totCon):\n",
    "            print(countryF[iCountry] + ', ' + str(labs[iCountry]))\n",
    "\n",
    "    pca = PCA(n_components=2)\n",
    "    principalComponents = pca.fit_transform(featVecsF)\n",
    "    \n",
    "    if bVerbosity:\n",
    "        plt.scatter(principalComponents[:, 0], principalComponents[:, 1], c=labs, edgecolor='none')\n",
    "        plt.xlabel('PCA 1')\n",
    "        plt.ylabel('PCA 2')\n",
    "        plt.colorbar()\n",
    "        plt.show()\n",
    "\n",
    "    return labs, countryF"
   ]
  },
  {
   "cell_type": "code",
   "execution_count": 31,
   "metadata": {},
   "outputs": [
    {
     "name": "stdout",
     "output_type": "stream",
     "text": [
      "China, 1\n",
      "Italy, 0\n",
      "Iran, 0\n",
      "Korea, South, 2\n",
      "Spain, 4\n",
      "Germany, 0\n",
      "France, 0\n",
      "US, 0\n",
      "Switzerland, 4\n",
      "United Kingdom, 0\n",
      "Norway, 4\n",
      "Sweden, 4\n",
      "Netherlands, 4\n",
      "Denmark, 3\n",
      "Japan, 2\n",
      "Belgium, 4\n",
      "Austria, 4\n",
      "Qatar, 3\n",
      "Australia, 2\n",
      "Malaysia, 2\n",
      "Greece, 0\n",
      "Finland, 4\n",
      "Singapore, 1\n",
      "Bahrain, 2\n",
      "Canada, 2\n",
      "Israel, 0\n",
      "Czechia, 4\n",
      "Slovenia, 3\n",
      "Portugal, 4\n",
      "Iceland, 0\n"
     ]
    },
    {
     "data": {
      "image/png": "[encoded data removed]",
      "text/plain": [
       "<Figure size 432x288 with 2 Axes>"
      ]
     },
     "metadata": {
      "needs_background": "light"
     },
     "output_type": "display_data"
    }
   ],
   "source": [
    "topCases = 30\n",
    "nClusters = 5\n",
    "labs, countryF =  buildClusters(featVecs, nClusters, lCountryKAG, True, peakVal, topCases)"
   ]
  },
  {
   "cell_type": "markdown",
   "metadata": {},
   "source": [
    "As it can be seen, in the baseline example, 5 different clusters can be distinguished, being 2 of them quite far away from the others (cluster 3 with China and Singapore, and group 4 with Denmark, Qatar and Slovenia). The cluster number itself does not tell which countries did a better job when preventing Covid-19, but instead it gives some insights of countries that have similar curves. "
   ]
  },
  {
   "cell_type": "markdown",
   "metadata": {},
   "source": [
    "Another interesting application would be the prediction of covid-19 a posteriori; that is, given the shape of the curve until a certain point, predict how many cases will there be the day of tomorrow. Although the implementation is quite naive, it gives some insights about the worst-case scenario of what may happen in a near future if the covid-19 curve keeps increasing. In this case, we can't use unsupervised learning anymore; instead, we'll use a simple linear regression, which will take as inputs some data (observations) and labels (prediction). \n",
    "\n",
    "For a given country, by using the same temporal window placed right at the peak of the covid-19 curve, we'll have a vector of N-1 observations, which will be the normalized cumulative sum of confirmed+death cases until the very last day (not included). The set of labels will be the ratio between the last two days, thus quantifying the exponential factor of the curve. Once obtained these vectors for all countries, a Linear Regression model is trained. \n",
    "\n",
    "Then, for our test country (sTarget), the same vector of observations will be extracted; once again, we'll take N-1 observations, but this time, the first position will be the 2nd day (hence taking the last day inside the observation vector). The output after introducing the test vector into the LR model will be a floating number, which will indicate the ratio of confirmed/deaths with respect to the last given observation; for instance, if a factor of 1.2 is obtained in a country with a total of 1000 (eg) confirmed covid-19 cases, the ratio indicates that, tomorrow, there will be 1200 cases (200 more). \n",
    "\n",
    "Finally, it has to be remarked that joining all countries into one same prediction model would introduce a lot of noise, since curves behave in different exponential ways. For this reason, and using once again the previously seen clustering technique (using more than 150 countries), the training data of a given country will only include observations of other countries belonging to the same cluster. Another parameter has been included in the code to shift between confirmed / deaths predictions (bConDea, set 0 for detections, and 1 for deaths). \n",
    "\n",
    "Once again, this is not a robust reliable model, but just a simple example that shows how can linear regression be applied over a set of real-life observations. "
   ]
  },
  {
   "cell_type": "code",
   "execution_count": 40,
   "metadata": {},
   "outputs": [],
   "source": [
    "def predictTomorrow(labs, countryF, flCountryPOP, lEvolDET, lEvolDEA, peakVal, iDays, sTarget, sDet):\n",
    "    Xtrain = []\n",
    "    ytrain = []\n",
    "    labelTarget = labs[countryF.index(sTarget)] # Check the cluster of the target country\n",
    "    for iCountry in range(0, len(countryF)):\n",
    "        if labs[iCountry] == labelTarget and countryF[iCountry] != sTarget: \n",
    "            posOr = flCountryPOP.index(countryF[iCountry]) # Peak in the curve\n",
    "            peakPos = peakVal[posOr][0]\n",
    "            timeSDet = lEvolDET[posOr][peakPos-iDays:peakPos] # Get the iDays last observations for confirmed cases\n",
    "            timeSDea = lEvolDEA[posOr][peakPos-iDays:peakPos] # Get the iDays last observations for dead cases\n",
    "\n",
    "            Xv = np.nan_to_num((np.cumsum(timeSDet)[:-1])/(np.max(np.cumsum(timeSDet)[:-1]))) # Confirmed cases: Obtain the cumSum until the last day (not included) -> part 1 observations vector\n",
    "            yv = np.nan_to_num(np.cumsum(timeSDet)[-1]/np.cumsum(timeSDet)[-2]) # Confirmed cases: Obtain the ratio of the last day wrt the previous one\n",
    "\n",
    "            Xvdea = np.nan_to_num((np.cumsum(timeSDea)[:-1])/(np.max(np.cumsum(timeSDea)[:-1]))) # Deaths: Obtain the cumSum until the last day (not included) -> part 2 observations vector\n",
    "            yvdea = np.nan_to_num(np.cumsum(timeSDea)[-1]/np.cumsum(timeSDea)[-2]) # Death cases: cases: Obtain the ratio of the last day wrt the previous one\n",
    "\n",
    "            if np.sum(Xv==0) < int(iDays/2):\n",
    "                Xtrain.append(np.concatenate([Xv,Xvdea])) # Join both observation vectors\n",
    "                if sDet == 0: # Depending on the sDet parameter, predict detections of deaths \n",
    "                    ytrain.append(yv) \n",
    "                else:\n",
    "                    ytrain.append(yvdea)\n",
    "                    \n",
    "        elif countryF[iCountry] == sTarget: # if the country is the target, fill test vectors\n",
    "            posOr = flCountryPOP.index(countryF[iCountry])\n",
    "            peakPos = peakVal[posOr][0]\n",
    "            timeSDetT = lEvolDET[posOr][peakPos - iDays:peakPos]\n",
    "            timeSDeaT = lEvolDEA[posOr][peakPos - iDays:peakPos]\n",
    "\n",
    "            Xv = np.nan_to_num((np.cumsum(timeSDetT)[1:]) / (np.max(np.cumsum(timeSDetT)[1:]))) \n",
    "            Xvdea = np.nan_to_num((np.cumsum(timeSDeaT)[1:]) / (np.max(np.cumsum(timeSDeaT)[1:])))\n",
    "            Xtest = np.concatenate([Xv, Xvdea])\n",
    "\n",
    "\n",
    "    linearReg = LinearRegression()\n",
    "    linearReg.fit(np.array(Xtrain), np.transpose(np.array(ytrain))) \n",
    "    predBoost = linearReg.predict(np.array(Xtest).reshape(1, -1))\n",
    "    if sDet == 0:\n",
    "        sPrDD = 'confirmed cases'\n",
    "        vlPr = timeSDetT[-1]\n",
    "    else:\n",
    "        sPrDD = 'deaths'\n",
    "        vlPr = timeSDeaT[-1]\n",
    "\n",
    "    print('The number of ' + sPrDD + ' cases until today in ' + sTarget + ' was: ' + str(vlPr))\n",
    "    print('Prediction: tomorrow, the total number of ' + sPrDD + ' cases in ' + sTarget + ' will be: ' + str(vlPr*predBoost[0]))"
   ]
  },
  {
   "cell_type": "code",
   "execution_count": 41,
   "metadata": {},
   "outputs": [
    {
     "name": "stdout",
     "output_type": "stream",
     "text": [
      "The number of deaths cases until today in Spain was: 133.0\n",
      "Prediction: tomorrow, the total number of deaths cases in Spain will be: 244.37118971262495\n"
     ]
    },
    {
     "name": "stderr",
     "output_type": "stream",
     "text": [
      "/usr/local/lib/python3.7/site-packages/ipykernel_launcher.py:15: RuntimeWarning: invalid value encountered in true_divide\n",
      "  from ipykernel import kernelapp as app\n",
      "/usr/local/lib/python3.7/site-packages/ipykernel_launcher.py:16: RuntimeWarning: invalid value encountered in double_scalars\n",
      "  app.launch_new_instance()\n"
     ]
    }
   ],
   "source": [
    "topCases = 175\n",
    "nClusters = 4\n",
    "labs, countryF = buildClusters(featVecs, nClusters, lCountryKAG, False, peakVal, topCases)\n",
    "\n",
    "bConDea = 1\n",
    "predictTomorrow(labs, countryF, flCountryWB, lEvolDETb, lEvolDEAb, peakVal, iDays, 'Spain', bConDea)\n"
   ]
  },
  {
   "cell_type": "markdown",
   "metadata": {},
   "source": [
    "I hope you enjoyed it! If you have any questions, please don't hesitate contacting me (adria.arbues@upf.edu). Cheers!"
   ]
  }
 ],
 "metadata": {
  "kernelspec": {
   "display_name": "Python 3",
   "language": "python",
   "name": "python3"
  },
  "language_info": {
   "codemirror_mode": {
    "name": "ipython",
    "version": 3
   },
   "file_extension": ".py",
   "mimetype": "text/x-python",
   "name": "python",
   "nbconvert_exporter": "python",
   "pygments_lexer": "ipython3",
   "version": "3.7.6"
  }
 },
 "nbformat": 4,
 "nbformat_minor": 4
}
